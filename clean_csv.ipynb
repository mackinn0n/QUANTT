{
 "cells": [
  {
   "cell_type": "code",
   "execution_count": 59,
   "metadata": {},
   "outputs": [],
   "source": [
    "import pandas as pd\n",
    "import numpy as np\n",
    "import matplotlib.pyplot as plt\n",
    "from scipy.stats import norm\n",
    "import tqdm"
   ]
  },
  {
   "cell_type": "code",
   "execution_count": 52,
   "metadata": {},
   "outputs": [],
   "source": [
    "df = pd.read_csv(\"QUANTT_dataset.csv\").iloc[:,1:]"
   ]
  },
  {
   "cell_type": "code",
   "execution_count": 53,
   "metadata": {},
   "outputs": [
    {
     "data": {
      "text/html": [
       "<div>\n",
       "<style scoped>\n",
       "    .dataframe tbody tr th:only-of-type {\n",
       "        vertical-align: middle;\n",
       "    }\n",
       "\n",
       "    .dataframe tbody tr th {\n",
       "        vertical-align: top;\n",
       "    }\n",
       "\n",
       "    .dataframe thead th {\n",
       "        text-align: right;\n",
       "    }\n",
       "</style>\n",
       "<table border=\"1\" class=\"dataframe\">\n",
       "  <thead>\n",
       "    <tr style=\"text-align: right;\">\n",
       "      <th></th>\n",
       "      <th>Date</th>\n",
       "      <th>Stock price</th>\n",
       "      <th>Strike price</th>\n",
       "      <th>T</th>\n",
       "      <th>Risk-Free Rate</th>\n",
       "      <th>Volatility</th>\n",
       "    </tr>\n",
       "  </thead>\n",
       "  <tbody>\n",
       "    <tr>\n",
       "      <th>0</th>\n",
       "      <td>2014-01-02</td>\n",
       "      <td>9.9867</td>\n",
       "      <td>7.480840</td>\n",
       "      <td>0.603493</td>\n",
       "      <td>0.0300</td>\n",
       "      <td>0.5527</td>\n",
       "    </tr>\n",
       "    <tr>\n",
       "      <th>1</th>\n",
       "      <td>2014-01-03</td>\n",
       "      <td>10.0000</td>\n",
       "      <td>19.014286</td>\n",
       "      <td>0.357814</td>\n",
       "      <td>0.0301</td>\n",
       "      <td>0.5527</td>\n",
       "    </tr>\n",
       "    <tr>\n",
       "      <th>2</th>\n",
       "      <td>2014-01-06</td>\n",
       "      <td>10.0000</td>\n",
       "      <td>14.639879</td>\n",
       "      <td>0.647817</td>\n",
       "      <td>0.0298</td>\n",
       "      <td>0.5527</td>\n",
       "    </tr>\n",
       "    <tr>\n",
       "      <th>3</th>\n",
       "      <td>2014-01-07</td>\n",
       "      <td>9.8413</td>\n",
       "      <td>11.783155</td>\n",
       "      <td>0.122921</td>\n",
       "      <td>0.0296</td>\n",
       "      <td>0.5527</td>\n",
       "    </tr>\n",
       "    <tr>\n",
       "      <th>4</th>\n",
       "      <td>2014-01-08</td>\n",
       "      <td>9.9233</td>\n",
       "      <td>3.096440</td>\n",
       "      <td>0.888659</td>\n",
       "      <td>0.0301</td>\n",
       "      <td>0.5527</td>\n",
       "    </tr>\n",
       "  </tbody>\n",
       "</table>\n",
       "</div>"
      ],
      "text/plain": [
       "         Date  Stock price  Strike price         T  Risk-Free Rate  Volatility\n",
       "0  2014-01-02       9.9867      7.480840  0.603493          0.0300      0.5527\n",
       "1  2014-01-03      10.0000     19.014286  0.357814          0.0301      0.5527\n",
       "2  2014-01-06      10.0000     14.639879  0.647817          0.0298      0.5527\n",
       "3  2014-01-07       9.8413     11.783155  0.122921          0.0296      0.5527\n",
       "4  2014-01-08       9.9233      3.096440  0.888659          0.0301      0.5527"
      ]
     },
     "execution_count": 53,
     "metadata": {},
     "output_type": "execute_result"
    }
   ],
   "source": [
    "df.head()"
   ]
  },
  {
   "cell_type": "code",
   "execution_count": 33,
   "metadata": {},
   "outputs": [],
   "source": [
    "# Generating random values for Strike price and T\n",
    "np.random.seed(42)  # Setting a seed for reproducibility\n",
    "df[\"Strike price\"] = np.random.uniform(0, 2*df[\"Stock price\"], len(df))\n",
    "df[\"T\"] = np.random.uniform(0, 1, size=len(df))"
   ]
  },
  {
   "cell_type": "code",
   "execution_count": 63,
   "metadata": {},
   "outputs": [],
   "source": [
    "def black_scholes(S, X, T, r, sigma):\n",
    "    \"\"\"\n",
    "    S: Current stock price\n",
    "    X: Strike price\n",
    "    T: Time to maturity (in years)\n",
    "    r: Risk-free interest rate (expressed as a decimal)\n",
    "    sigma: Volatility of the stock's return\n",
    "    \"\"\"\n",
    "    # Calculate d1 and d2\n",
    "    d1 = (np.log(S / X) + (r + 0.5 * sigma ** 2) * T) / (sigma * np.sqrt(T))\n",
    "    d2 = d1 - sigma * np.sqrt(T)\n",
    "   \n",
    "    # Calculate the call option price\n",
    "    call_price = (S * norm.cdf(d1)) - (X * np.exp(-r * T) * norm.cdf(d2))\n",
    "   \n",
    "    # Calculate the put option price\n",
    "    put_price = (X * np.exp(-r * T) * norm.cdf(-d2)) - (S * norm.cdf(-d1))\n",
    "   \n",
    "    return call_price\n",
    "\n",
    "def monte_carlo(Stock_P, Strike_P, vol, r, T, N=10, M=1_000):\n",
    "    # Constants. These apply to the formula -----> delta(x) = u*delta(t) + sigma*delta(z)\n",
    "    dt = T/N                                #   timestep. I.E., if T is 5 years and N is 10, this will give each time step as 0.5 years\n",
    "    u_dt = (r-0.5*vol**2)*dt                #   drift term (u)  \n",
    "    vol_sqrt_dt = vol*np.sqrt(dt)           #   From equation on line 43, delta(z) becomes sqrt(delta(t)) when time step is applied\n",
    "                                            #   -----> StockPriceNow = StockPricePrevious*e^(u*delta(t) + sigma*delta(z))\n",
    "    # Standard error placeholders\n",
    "    totalCT = 0\n",
    "    totalCT2 = 0\n",
    "\n",
    "    # MONTE CARLO METHOD\n",
    "    for i in range(M):  #M is total simulations\n",
    "        lnStock_P = np.log(Stock_P)\n",
    "        for j in range(N):  #N is total timesteps\n",
    "            lnStock_P = lnStock_P + u_dt + vol_sqrt_dt*np.random.normal()\n",
    "\n",
    "        ST = np.exp(lnStock_P) # e^ln cancels out and leaves the stock price as ST\n",
    "        CT = max(0, ST - Strike_P) \n",
    "        totalCT = totalCT + CT\n",
    "        totalCT2 = totalCT2 +CT*CT\n",
    "\n",
    "    # Find the call value and the SE\n",
    "    C0 = np.exp(-r*T)*totalCT/M    # C0 is call value. Comes from formula ------> C0 = (1/M)*(SIGMA(  M(top of sigma)...i=1(bottom of sigma) C0 ))\n",
    "    sigma = np.sqrt((totalCT2 - totalCT*totalCT/M)*np.exp(-2*r*T) / (M-1)) # for standard error. Has nothing to do with uppercase SIGMA from line 65\n",
    "    SE = sigma/np.sqrt(M) #find the standard error. This is essentially based on number of sims and call value at each time point\n",
    "\n",
    "    return C0\n",
    "\n",
    "def binomial_tree(S0, K, T, r, sigma, N = 100):\n",
    "    \n",
    "    # Calculations\n",
    "    dt = T / N  # length of each step\n",
    "    u = np.exp(sigma * np.sqrt(dt))  # up-factor\n",
    "    d = 1 / u  # down-factor\n",
    "    p = (np.exp(r * dt) - d) / (u - d)  # risk-neutral probability\n",
    "\n",
    "    # Initialize the Stock Price Tree\n",
    "    stock_price_tree = np.zeros((N + 1, N + 1))\n",
    "    stock_price_tree[0, 0] = S0\n",
    "    for i in range(1, N + 1):\n",
    "        stock_price_tree[i, 0] = stock_price_tree[i - 1, 0] * u\n",
    "        for j in range(1, i + 1):\n",
    "            stock_price_tree[i, j] = stock_price_tree[i - 1, j - 1] * d\n",
    "\n",
    "    # Initialize the Option Value Tree for a Call Option\n",
    "    option_value_tree = np.zeros((N + 1, N + 1))\n",
    "    for j in range(N + 1):\n",
    "        option_value_tree[N, j] = max(0, stock_price_tree[N, j] - K)\n",
    "\n",
    "    # Perform Backward Induction\n",
    "    for i in range(N - 1, -1, -1):\n",
    "        for j in range(i + 1):\n",
    "            option_value_tree[i, j] = np.exp(-r * dt) * (p * option_value_tree[i + 1, j] + (1 - p) * option_value_tree[i + 1, j + 1])\n",
    "\n",
    "    # Result\n",
    "    option_price = option_value_tree[0, 0]\n",
    "\n",
    "    return option_price"
   ]
  },
  {
   "cell_type": "code",
   "execution_count": 61,
   "metadata": {},
   "outputs": [
    {
     "name": "stderr",
     "output_type": "stream",
     "text": [
      "Calculating Values:   0%|          | 0/2577 [00:00<?, ?it/s]"
     ]
    },
    {
     "name": "stderr",
     "output_type": "stream",
     "text": [
      "Calculating Values: 100%|██████████| 2577/2577 [07:50<00:00,  5.48it/s]\n"
     ]
    }
   ],
   "source": [
    "# Setting up a progress bar for the DataFrame's length\n",
    "for i in tqdm.tqdm(df.index, desc='Calculating Values', position=0, leave=True):\n",
    "    row = df.loc[i]\n",
    "    df.at[i, 'BS Value'] = black_scholes(row['Stock price'], row['Strike price'], row['T'], row['Risk-Free Rate'], row['Volatility'])\n",
    "    df.at[i, 'MC Value'] = monte_carlo(row['Stock price'], row['Strike price'], row['Volatility'], row['Risk-Free Rate'], row['T'])\n",
    "    df.at[i, 'BT Value'] = binomial_tree(row['Stock price'], row['Strike price'], row['T'], row['Risk-Free Rate'], row['Volatility'])"
   ]
  },
  {
   "cell_type": "code",
   "execution_count": 64,
   "metadata": {},
   "outputs": [
    {
     "name": "stderr",
     "output_type": "stream",
     "text": [
      "Calculating Values: 100%|██████████| 2577/2577 [00:39<00:00, 65.64it/s]\n"
     ]
    }
   ],
   "source": [
    "# Setting up a progress bar for the DataFrame's length\n",
    "for i in tqdm.tqdm(df.index, desc='Calculating Values', position=0, leave=True):\n",
    "    row = df.loc[i]\n",
    "    df.at[i, 'BT Value'] = binomial_tree(row['Stock price'], row['Strike price'], row['T'], row['Risk-Free Rate'], row['Volatility'])"
   ]
  },
  {
   "cell_type": "code",
   "execution_count": 65,
   "metadata": {},
   "outputs": [],
   "source": [
    "df['Average Value'] = df[['BT Value', 'BS Value', 'MC Value']].mean(axis=1)"
   ]
  },
  {
   "cell_type": "code",
   "execution_count": 66,
   "metadata": {},
   "outputs": [
    {
     "data": {
      "text/html": [
       "<div>\n",
       "<style scoped>\n",
       "    .dataframe tbody tr th:only-of-type {\n",
       "        vertical-align: middle;\n",
       "    }\n",
       "\n",
       "    .dataframe tbody tr th {\n",
       "        vertical-align: top;\n",
       "    }\n",
       "\n",
       "    .dataframe thead th {\n",
       "        text-align: right;\n",
       "    }\n",
       "</style>\n",
       "<table border=\"1\" class=\"dataframe\">\n",
       "  <thead>\n",
       "    <tr style=\"text-align: right;\">\n",
       "      <th></th>\n",
       "      <th>Date</th>\n",
       "      <th>Stock price</th>\n",
       "      <th>Strike price</th>\n",
       "      <th>T</th>\n",
       "      <th>Risk-Free Rate</th>\n",
       "      <th>Volatility</th>\n",
       "      <th>BS Value</th>\n",
       "      <th>MC Value</th>\n",
       "      <th>BT Value</th>\n",
       "      <th>Average Value</th>\n",
       "    </tr>\n",
       "  </thead>\n",
       "  <tbody>\n",
       "    <tr>\n",
       "      <th>0</th>\n",
       "      <td>2014-01-02</td>\n",
       "      <td>9.9867</td>\n",
       "      <td>7.480840</td>\n",
       "      <td>0.603493</td>\n",
       "      <td>0.0300</td>\n",
       "      <td>0.5527</td>\n",
       "      <td>3.145632</td>\n",
       "      <td>3.164122</td>\n",
       "      <td>3.147523</td>\n",
       "      <td>3.152425</td>\n",
       "    </tr>\n",
       "    <tr>\n",
       "      <th>1</th>\n",
       "      <td>2014-01-03</td>\n",
       "      <td>10.0000</td>\n",
       "      <td>19.014286</td>\n",
       "      <td>0.357814</td>\n",
       "      <td>0.0301</td>\n",
       "      <td>0.5527</td>\n",
       "      <td>0.048183</td>\n",
       "      <td>0.048735</td>\n",
       "      <td>0.047745</td>\n",
       "      <td>0.048221</td>\n",
       "    </tr>\n",
       "    <tr>\n",
       "      <th>2</th>\n",
       "      <td>2014-01-06</td>\n",
       "      <td>10.0000</td>\n",
       "      <td>14.639879</td>\n",
       "      <td>0.647817</td>\n",
       "      <td>0.0298</td>\n",
       "      <td>0.5527</td>\n",
       "      <td>0.616661</td>\n",
       "      <td>0.658655</td>\n",
       "      <td>0.617788</td>\n",
       "      <td>0.631034</td>\n",
       "    </tr>\n",
       "    <tr>\n",
       "      <th>3</th>\n",
       "      <td>2014-01-07</td>\n",
       "      <td>9.8413</td>\n",
       "      <td>11.783155</td>\n",
       "      <td>0.122921</td>\n",
       "      <td>0.0296</td>\n",
       "      <td>0.5527</td>\n",
       "      <td>0.204580</td>\n",
       "      <td>0.215122</td>\n",
       "      <td>0.205344</td>\n",
       "      <td>0.208349</td>\n",
       "    </tr>\n",
       "    <tr>\n",
       "      <th>4</th>\n",
       "      <td>2014-01-08</td>\n",
       "      <td>9.9233</td>\n",
       "      <td>3.096440</td>\n",
       "      <td>0.888659</td>\n",
       "      <td>0.0301</td>\n",
       "      <td>0.5527</td>\n",
       "      <td>6.919143</td>\n",
       "      <td>6.903296</td>\n",
       "      <td>6.918827</td>\n",
       "      <td>6.913756</td>\n",
       "    </tr>\n",
       "  </tbody>\n",
       "</table>\n",
       "</div>"
      ],
      "text/plain": [
       "         Date  Stock price  Strike price         T  Risk-Free Rate  \\\n",
       "0  2014-01-02       9.9867      7.480840  0.603493          0.0300   \n",
       "1  2014-01-03      10.0000     19.014286  0.357814          0.0301   \n",
       "2  2014-01-06      10.0000     14.639879  0.647817          0.0298   \n",
       "3  2014-01-07       9.8413     11.783155  0.122921          0.0296   \n",
       "4  2014-01-08       9.9233      3.096440  0.888659          0.0301   \n",
       "\n",
       "   Volatility  BS Value  MC Value  BT Value  Average Value  \n",
       "0      0.5527  3.145632  3.164122  3.147523       3.152425  \n",
       "1      0.5527  0.048183  0.048735  0.047745       0.048221  \n",
       "2      0.5527  0.616661  0.658655  0.617788       0.631034  \n",
       "3      0.5527  0.204580  0.215122  0.205344       0.208349  \n",
       "4      0.5527  6.919143  6.903296  6.918827       6.913756  "
      ]
     },
     "execution_count": 66,
     "metadata": {},
     "output_type": "execute_result"
    }
   ],
   "source": [
    "df.head()"
   ]
  },
  {
   "cell_type": "code",
   "execution_count": 67,
   "metadata": {},
   "outputs": [],
   "source": [
    "df.to_csv(\"modified_QUANTT_dataset.csv\")"
   ]
  }
 ],
 "metadata": {
  "kernelspec": {
   "display_name": "QUANTTVenv",
   "language": "python",
   "name": "python3"
  },
  "language_info": {
   "codemirror_mode": {
    "name": "ipython",
    "version": 3
   },
   "file_extension": ".py",
   "mimetype": "text/x-python",
   "name": "python",
   "nbconvert_exporter": "python",
   "pygments_lexer": "ipython3",
   "version": "3.11.4"
  }
 },
 "nbformat": 4,
 "nbformat_minor": 2
}
